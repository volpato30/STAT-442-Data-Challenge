{
 "cells": [
  {
   "cell_type": "code",
   "execution_count": 1,
   "metadata": {
    "collapsed": true
   },
   "outputs": [],
   "source": [
    "import os\n",
    "import numpy as np\n",
    "import gzip\n",
    "import pickle\n",
    "import cv2\n",
    "import scipy.io as sio\n",
    "import matplotlib.pyplot as plt\n",
    "%matplotlib inline"
   ]
  },
  {
   "cell_type": "code",
   "execution_count": 2,
   "metadata": {
    "collapsed": true
   },
   "outputs": [],
   "source": [
    "train_data = sio.loadmat('distorted_MNIST.mat')\n",
    "test_data = sio.loadmat('testset_label.mat')"
   ]
  },
  {
   "cell_type": "code",
   "execution_count": 3,
   "metadata": {
    "collapsed": false
   },
   "outputs": [],
   "source": [
    "train_X = train_data['train_X']\n",
    "train_y = train_data['train_y']\n",
    "test_X = train_data['test_X']"
   ]
  },
  {
   "cell_type": "code",
   "execution_count": 4,
   "metadata": {
    "collapsed": true
   },
   "outputs": [],
   "source": [
    "test_y = test_data['test_y']"
   ]
  },
  {
   "cell_type": "code",
   "execution_count": 5,
   "metadata": {
    "collapsed": true
   },
   "outputs": [],
   "source": [
    "import sklearn.neighbors\n",
    "from sklearn.decomposition import PCA\n",
    "KNN_C = sklearn.neighbors.KNeighborsClassifier()\n",
    "\n",
    "def train_and_eval( model, train_x, train_y, test_x, test_y):\n",
    "    model.fit( train_x, train_y )\n",
    "    p = model.predict( test_x )\n",
    "    OA = sum(test_y==p)/len(test_y)\n",
    "    return OA"
   ]
  },
  {
   "cell_type": "code",
   "execution_count": 6,
   "metadata": {
    "collapsed": false
   },
   "outputs": [],
   "source": [
    "train_X = train_X.reshape(train_X.shape[0],-1)\n",
    "test_X = test_X.reshape(test_X.shape[0], -1)"
   ]
  },
  {
   "cell_type": "code",
   "execution_count": 7,
   "metadata": {
    "collapsed": false
   },
   "outputs": [],
   "source": [
    "train_y = train_y.flatten()\n",
    "test_y = test_y.flatten()"
   ]
  },
  {
   "cell_type": "markdown",
   "metadata": {},
   "source": [
    "# Using KNN on raw data will generate an accuracy of 63.7%"
   ]
  },
  {
   "cell_type": "code",
   "execution_count": 23,
   "metadata": {
    "collapsed": false
   },
   "outputs": [
    {
     "data": {
      "text/plain": [
       "0.63685000000000003"
      ]
     },
     "execution_count": 23,
     "metadata": {},
     "output_type": "execute_result"
    }
   ],
   "source": [
    "train_and_eval(KNN_C, train_X, train_y, test_X, test_y)"
   ]
  },
  {
   "cell_type": "markdown",
   "metadata": {},
   "source": [
    "# Using KNN on the first 20 PCs"
   ]
  },
  {
   "cell_type": "code",
   "execution_count": 26,
   "metadata": {
    "collapsed": false
   },
   "outputs": [
    {
     "data": {
      "text/plain": [
       "0.70609999999999995"
      ]
     },
     "execution_count": 26,
     "metadata": {},
     "output_type": "execute_result"
    }
   ],
   "source": [
    "flatten_distorted_X = np.concatenate((train_X, test_X))\n",
    "train_index = np.arange(10000)\n",
    "test_index = np.arange(10000,50000)\n",
    "pca = PCA(n_components=20)\n",
    "pcomp = pca.fit_transform(flatten_distorted_X)\n",
    "X_pcomp_train,X_pcomp_test = [pcomp[train_index],pcomp[test_index]]\n",
    "train_and_eval(KNN_C, X_pcomp_train, train_y, X_pcomp_test, test_y)"
   ]
  },
  {
   "cell_type": "code",
   "execution_count": 8,
   "metadata": {
    "collapsed": true
   },
   "outputs": [],
   "source": [
    "flatten_distorted_X = np.concatenate((train_X, test_X))\n",
    "train_index = np.arange(10000)\n",
    "test_index = np.arange(10000,50000)\n",
    "OA = []\n",
    "\n",
    "pc_list = np.arange(5,81,5)\n",
    "for pcs in pc_list:\n",
    "    pca = PCA(n_components=pcs)\n",
    "    pcomp = pca.fit_transform(flatten_distorted_X)\n",
    "    X_pcomp_train,X_pcomp_test = [pcomp[train_index],pcomp[test_index]]\n",
    "    OA.append(train_and_eval(KNN_C, X_pcomp_train, train_y, X_pcomp_test, test_y))"
   ]
  },
  {
   "cell_type": "markdown",
   "metadata": {},
   "source": [
    "# Plot OA over num of PCs"
   ]
  },
  {
   "cell_type": "code",
   "execution_count": 11,
   "metadata": {
    "collapsed": false,
    "scrolled": true
   },
   "outputs": [
    {
     "data": {
      "text/plain": [
       "<matplotlib.text.Text at 0x7f7153605908>"
      ]
     },
     "execution_count": 11,
     "metadata": {},
     "output_type": "execute_result"
    },
    {
     "data": {
      "image/png": "[encoded data removed]",
      "text/plain": [
       "<matplotlib.figure.Figure at 0x7f71746026d8>"
      ]
     },
     "metadata": {},
     "output_type": "display_data"
    }
   ],
   "source": [
    "import matplotlib.pyplot as plt\n",
    "% matplotlib inline\n",
    "plt.plot(pc_list, OA)\n",
    "plt.xlabel('num of PCs')\n",
    "plt.ylabel('overall accuracy')"
   ]
  },
  {
   "cell_type": "code",
   "execution_count": 8,
   "metadata": {
    "collapsed": true
   },
   "outputs": [],
   "source": [
    "flatten_distorted_X = np.concatenate((train_X, test_X))\n",
    "train_index = np.arange(10000)\n",
    "test_index = np.arange(10000,50000)\n",
    "OA = []\n",
    "\n",
    "pc_list = np.arange(25,35,1)\n",
    "for pcs in pc_list:\n",
    "    pca = PCA(n_components=pcs)\n",
    "    pcomp = pca.fit_transform(flatten_distorted_X)\n",
    "    X_pcomp_train,X_pcomp_test = [pcomp[train_index],pcomp[test_index]]\n",
    "    OA.append(train_and_eval(KNN_C, X_pcomp_train, train_y, X_pcomp_test, test_y))"
   ]
  },
  {
   "cell_type": "code",
   "execution_count": 9,
   "metadata": {
    "collapsed": false
   },
   "outputs": [
    {
     "data": {
      "text/plain": [
       "<matplotlib.text.Text at 0x7feebe0d9748>"
      ]
     },
     "execution_count": 9,
     "metadata": {},
     "output_type": "execute_result"
    },
    {
     "data": {
      "image/png": "[encoded data removed]",
      "text/plain": [
       "<matplotlib.figure.Figure at 0x7fef8aafdf98>"
      ]
     },
     "metadata": {},
     "output_type": "display_data"
    }
   ],
   "source": [
    "import matplotlib.pyplot as plt\n",
    "% matplotlib inline\n",
    "plt.plot(pc_list, OA)\n",
    "plt.xlabel('num of PCs')\n",
    "plt.ylabel('overall accuracy')"
   ]
  },
  {
   "cell_type": "code",
   "execution_count": 10,
   "metadata": {
    "collapsed": false
   },
   "outputs": [
    {
     "data": {
      "text/plain": [
       "0.72792500000000004"
      ]
     },
     "execution_count": 10,
     "metadata": {},
     "output_type": "execute_result"
    }
   ],
   "source": [
    "max(OA)"
   ]
  },
  {
   "cell_type": "markdown",
   "metadata": {},
   "source": [
    "# It is computationally difficult to perform Isomap and LLE(basically kernel PCA based method) on this dataset. Even storing the kernel matrix in RAM is not trivial."
   ]
  },
  {
   "cell_type": "markdown",
   "metadata": {},
   "source": [
    "## Isomap"
   ]
  },
  {
   "cell_type": "code",
   "execution_count": 8,
   "metadata": {
    "collapsed": false
   },
   "outputs": [],
   "source": [
    "from sklearn.manifold import Isomap\n",
    "import time"
   ]
  },
  {
   "cell_type": "code",
   "execution_count": 12,
   "metadata": {
    "collapsed": false
   },
   "outputs": [
    {
     "name": "stdout",
     "output_type": "stream",
     "text": [
      "0.462675\n",
      "roughly spend 103.90s\n"
     ]
    }
   ],
   "source": [
    "start_time = time.time()\n",
    "num_datapoints = 5000 # number of datapoints that we use.\n",
    "isomap = Isomap(n_neighbors=10, n_components=50, n_jobs=-1) # using all cpu cores\n",
    "isomap.fit(flatten_distorted_X[:num_datapoints])\n",
    "pcomp = isomap.transform(flatten_distorted_X)\n",
    "X_pcomp_train,X_pcomp_test = [pcomp[train_index],pcomp[test_index]]\n",
    "print(train_and_eval(KNN_C, X_pcomp_train, train_y, X_pcomp_test, test_y))\n",
    "end_time = time.time()\n",
    "print('roughly spend {:.2f}s'.format(end_time - start_time))"
   ]
  },
  {
   "cell_type": "code",
   "execution_count": 18,
   "metadata": {
    "collapsed": true
   },
   "outputs": [],
   "source": [
    "def isomap_experiment(n_neighbors, n_components):\n",
    "    isomap = Isomap(n_neighbors, n_components, n_jobs=-1) # using all cpu cores\n",
    "    isomap.fit(flatten_distorted_X[:num_datapoints])\n",
    "    pcomp = isomap.transform(flatten_distorted_X)\n",
    "    X_pcomp_train,X_pcomp_test = [pcomp[train_index],pcomp[test_index]]\n",
    "    return train_and_eval(KNN_C, X_pcomp_train, train_y, X_pcomp_test, test_y)"
   ]
  },
  {
   "cell_type": "code",
   "execution_count": 16,
   "metadata": {
    "collapsed": false
   },
   "outputs": [],
   "source": [
    "n_neighbors_list = [10,20,30]\n",
    "n_components_list = [20,30,40,50]\n",
    "import itertools\n",
    "params = list(itertools.product(n_neighbors_list, n_components_list))"
   ]
  },
  {
   "cell_type": "code",
   "execution_count": 20,
   "metadata": {
    "collapsed": true
   },
   "outputs": [],
   "source": [
    "OA = []\n",
    "for param in params:\n",
    "    OA.append(isomap_experiment(*param))\n",
    "import pandas as pd\n",
    "df = pd.DataFrame({'score':OA})"
   ]
  },
  {
   "cell_type": "code",
   "execution_count": 21,
   "metadata": {
    "collapsed": false
   },
   "outputs": [
    {
     "data": {
      "text/html": [
       "<div>\n",
       "<table border=\"1\" class=\"dataframe\">\n",
       "  <thead>\n",
       "    <tr style=\"text-align: right;\">\n",
       "      <th></th>\n",
       "      <th>score</th>\n",
       "    </tr>\n",
       "  </thead>\n",
       "  <tbody>\n",
       "    <tr>\n",
       "      <th>(10, 20)</th>\n",
       "      <td>0.465250</td>\n",
       "    </tr>\n",
       "    <tr>\n",
       "      <th>(10, 30)</th>\n",
       "      <td>0.468700</td>\n",
       "    </tr>\n",
       "    <tr>\n",
       "      <th>(10, 40)</th>\n",
       "      <td>0.463325</td>\n",
       "    </tr>\n",
       "    <tr>\n",
       "      <th>(10, 50)</th>\n",
       "      <td>0.462675</td>\n",
       "    </tr>\n",
       "    <tr>\n",
       "      <th>(20, 20)</th>\n",
       "      <td>0.513700</td>\n",
       "    </tr>\n",
       "    <tr>\n",
       "      <th>(20, 30)</th>\n",
       "      <td>0.514800</td>\n",
       "    </tr>\n",
       "    <tr>\n",
       "      <th>(20, 40)</th>\n",
       "      <td>0.508450</td>\n",
       "    </tr>\n",
       "    <tr>\n",
       "      <th>(20, 50)</th>\n",
       "      <td>0.501200</td>\n",
       "    </tr>\n",
       "    <tr>\n",
       "      <th>(30, 20)</th>\n",
       "      <td>0.534425</td>\n",
       "    </tr>\n",
       "    <tr>\n",
       "      <th>(30, 30)</th>\n",
       "      <td>0.532300</td>\n",
       "    </tr>\n",
       "    <tr>\n",
       "      <th>(30, 40)</th>\n",
       "      <td>0.526225</td>\n",
       "    </tr>\n",
       "    <tr>\n",
       "      <th>(30, 50)</th>\n",
       "      <td>0.518175</td>\n",
       "    </tr>\n",
       "  </tbody>\n",
       "</table>\n",
       "</div>"
      ],
      "text/plain": [
       "             score\n",
       "(10, 20)  0.465250\n",
       "(10, 30)  0.468700\n",
       "(10, 40)  0.463325\n",
       "(10, 50)  0.462675\n",
       "(20, 20)  0.513700\n",
       "(20, 30)  0.514800\n",
       "(20, 40)  0.508450\n",
       "(20, 50)  0.501200\n",
       "(30, 20)  0.534425\n",
       "(30, 30)  0.532300\n",
       "(30, 40)  0.526225\n",
       "(30, 50)  0.518175"
      ]
     },
     "execution_count": 21,
     "metadata": {},
     "output_type": "execute_result"
    }
   ],
   "source": [
    "df.index = params\n",
    "df"
   ]
  },
  {
   "cell_type": "markdown",
   "metadata": {},
   "source": [
    "## LLE"
   ]
  },
  {
   "cell_type": "code",
   "execution_count": 22,
   "metadata": {
    "collapsed": true
   },
   "outputs": [],
   "source": [
    "from sklearn.manifold import LocallyLinearEmbedding"
   ]
  },
  {
   "cell_type": "code",
   "execution_count": 23,
   "metadata": {
    "collapsed": false
   },
   "outputs": [
    {
     "name": "stdout",
     "output_type": "stream",
     "text": [
      "0.462675\n",
      "roughly spend 91.31s\n"
     ]
    }
   ],
   "source": [
    "start_time = time.time()\n",
    "num_datapoints = 5000 # number of datapoints that we use.\n",
    "lle = LocallyLinearEmbedding(n_neighbors=10, n_components=50, n_jobs=-1) # using all cpu cores\n",
    "lle.fit(flatten_distorted_X[:num_datapoints])\n",
    "pcomp = isomap.transform(flatten_distorted_X)\n",
    "X_pcomp_train,X_pcomp_test = [pcomp[train_index],pcomp[test_index]]\n",
    "print(train_and_eval(KNN_C, X_pcomp_train, train_y, X_pcomp_test, test_y))\n",
    "end_time = time.time()\n",
    "print('roughly spend {:.2f}s'.format(end_time - start_time))"
   ]
  },
  {
   "cell_type": "code",
   "execution_count": 24,
   "metadata": {
    "collapsed": true
   },
   "outputs": [],
   "source": [
    "def lle_experiment(n_neighbors, n_components):\n",
    "    lle = LocallyLinearEmbedding(n_neighbors, n_components, n_jobs=-1) # using all cpu cores\n",
    "    lle.fit(flatten_distorted_X[:num_datapoints])\n",
    "    pcomp = isomap.transform(flatten_distorted_X)\n",
    "    X_pcomp_train,X_pcomp_test = [pcomp[train_index],pcomp[test_index]]\n",
    "    return train_and_eval(KNN_C, X_pcomp_train, train_y, X_pcomp_test, test_y)"
   ]
  },
  {
   "cell_type": "code",
   "execution_count": 25,
   "metadata": {
    "collapsed": true
   },
   "outputs": [],
   "source": [
    "n_neighbors_list = [5,10,20,30]\n",
    "n_components_list = [5,10,20,30,40,50]\n",
    "import itertools\n",
    "params = list(itertools.product(n_neighbors_list, n_components_list))"
   ]
  },
  {
   "cell_type": "code",
   "execution_count": 26,
   "metadata": {
    "collapsed": true
   },
   "outputs": [],
   "source": [
    "OA = []\n",
    "for param in params:\n",
    "    OA.append(isomap_experiment(*param))\n",
    "import pandas as pd\n",
    "df = pd.DataFrame({'score':OA})"
   ]
  },
  {
   "cell_type": "code",
   "execution_count": 27,
   "metadata": {
    "collapsed": false
   },
   "outputs": [
    {
     "data": {
      "text/html": [
       "<div>\n",
       "<table border=\"1\" class=\"dataframe\">\n",
       "  <thead>\n",
       "    <tr style=\"text-align: right;\">\n",
       "      <th></th>\n",
       "      <th>score</th>\n",
       "    </tr>\n",
       "  </thead>\n",
       "  <tbody>\n",
       "    <tr>\n",
       "      <th>(5, 5)</th>\n",
       "      <td>0.293175</td>\n",
       "    </tr>\n",
       "    <tr>\n",
       "      <th>(5, 10)</th>\n",
       "      <td>0.401150</td>\n",
       "    </tr>\n",
       "    <tr>\n",
       "      <th>(5, 20)</th>\n",
       "      <td>0.438350</td>\n",
       "    </tr>\n",
       "    <tr>\n",
       "      <th>(5, 30)</th>\n",
       "      <td>0.446900</td>\n",
       "    </tr>\n",
       "    <tr>\n",
       "      <th>(5, 40)</th>\n",
       "      <td>0.447375</td>\n",
       "    </tr>\n",
       "    <tr>\n",
       "      <th>(5, 50)</th>\n",
       "      <td>0.449375</td>\n",
       "    </tr>\n",
       "    <tr>\n",
       "      <th>(10, 5)</th>\n",
       "      <td>0.298125</td>\n",
       "    </tr>\n",
       "    <tr>\n",
       "      <th>(10, 10)</th>\n",
       "      <td>0.424725</td>\n",
       "    </tr>\n",
       "    <tr>\n",
       "      <th>(10, 20)</th>\n",
       "      <td>0.465250</td>\n",
       "    </tr>\n",
       "    <tr>\n",
       "      <th>(10, 30)</th>\n",
       "      <td>0.468700</td>\n",
       "    </tr>\n",
       "    <tr>\n",
       "      <th>(10, 40)</th>\n",
       "      <td>0.463325</td>\n",
       "    </tr>\n",
       "    <tr>\n",
       "      <th>(10, 50)</th>\n",
       "      <td>0.462675</td>\n",
       "    </tr>\n",
       "    <tr>\n",
       "      <th>(20, 5)</th>\n",
       "      <td>0.310025</td>\n",
       "    </tr>\n",
       "    <tr>\n",
       "      <th>(20, 10)</th>\n",
       "      <td>0.460050</td>\n",
       "    </tr>\n",
       "    <tr>\n",
       "      <th>(20, 20)</th>\n",
       "      <td>0.513700</td>\n",
       "    </tr>\n",
       "    <tr>\n",
       "      <th>(20, 30)</th>\n",
       "      <td>0.514800</td>\n",
       "    </tr>\n",
       "    <tr>\n",
       "      <th>(20, 40)</th>\n",
       "      <td>0.508450</td>\n",
       "    </tr>\n",
       "    <tr>\n",
       "      <th>(20, 50)</th>\n",
       "      <td>0.501200</td>\n",
       "    </tr>\n",
       "    <tr>\n",
       "      <th>(30, 5)</th>\n",
       "      <td>0.313000</td>\n",
       "    </tr>\n",
       "    <tr>\n",
       "      <th>(30, 10)</th>\n",
       "      <td>0.474000</td>\n",
       "    </tr>\n",
       "    <tr>\n",
       "      <th>(30, 20)</th>\n",
       "      <td>0.534425</td>\n",
       "    </tr>\n",
       "    <tr>\n",
       "      <th>(30, 30)</th>\n",
       "      <td>0.532300</td>\n",
       "    </tr>\n",
       "    <tr>\n",
       "      <th>(30, 40)</th>\n",
       "      <td>0.526225</td>\n",
       "    </tr>\n",
       "    <tr>\n",
       "      <th>(30, 50)</th>\n",
       "      <td>0.518175</td>\n",
       "    </tr>\n",
       "  </tbody>\n",
       "</table>\n",
       "</div>"
      ],
      "text/plain": [
       "             score\n",
       "(5, 5)    0.293175\n",
       "(5, 10)   0.401150\n",
       "(5, 20)   0.438350\n",
       "(5, 30)   0.446900\n",
       "(5, 40)   0.447375\n",
       "(5, 50)   0.449375\n",
       "(10, 5)   0.298125\n",
       "(10, 10)  0.424725\n",
       "(10, 20)  0.465250\n",
       "(10, 30)  0.468700\n",
       "(10, 40)  0.463325\n",
       "(10, 50)  0.462675\n",
       "(20, 5)   0.310025\n",
       "(20, 10)  0.460050\n",
       "(20, 20)  0.513700\n",
       "(20, 30)  0.514800\n",
       "(20, 40)  0.508450\n",
       "(20, 50)  0.501200\n",
       "(30, 5)   0.313000\n",
       "(30, 10)  0.474000\n",
       "(30, 20)  0.534425\n",
       "(30, 30)  0.532300\n",
       "(30, 40)  0.526225\n",
       "(30, 50)  0.518175"
      ]
     },
     "execution_count": 27,
     "metadata": {},
     "output_type": "execute_result"
    }
   ],
   "source": [
    "df.index = params\n",
    "df"
   ]
  },
  {
   "cell_type": "code",
   "execution_count": null,
   "metadata": {
    "collapsed": true
   },
   "outputs": [],
   "source": []
  }
 ],
 "metadata": {
  "kernelspec": {
   "display_name": "Python 3",
   "language": "python",
   "name": "python3"
  },
  "language_info": {
   "codemirror_mode": {
    "name": "ipython",
    "version": 3
   },
   "file_extension": ".py",
   "mimetype": "text/x-python",
   "name": "python",
   "nbconvert_exporter": "python",
   "pygments_lexer": "ipython3",
   "version": "3.5.2"
  }
 },
 "nbformat": 4,
 "nbformat_minor": 1
}
