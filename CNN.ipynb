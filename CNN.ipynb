{
 "cells": [
  {
   "cell_type": "markdown",
   "metadata": {},
   "source": [
    "# Using CNN to extract features. This way we use train_y during the training process thus it is a semi-supervised method."
   ]
  },
  {
   "cell_type": "code",
   "execution_count": 1,
   "metadata": {
    "collapsed": true
   },
   "outputs": [],
   "source": [
    "import tensorflow as tf\n",
    "import numpy as np\n",
    "import math\n",
    "import scipy.io as sio"
   ]
  },
  {
   "cell_type": "code",
   "execution_count": 2,
   "metadata": {
    "collapsed": false
   },
   "outputs": [],
   "source": [
    "data  = sio.loadmat('../distorted_MNIST.mat')"
   ]
  },
  {
   "cell_type": "code",
   "execution_count": 3,
   "metadata": {
    "collapsed": true
   },
   "outputs": [],
   "source": [
    "train_X = data['train_X']\n",
    "train_y = data['train_y']\n",
    "test_X = data['test_X']\n",
    "test_data = sio.loadmat('../testset_label.mat')\n",
    "test_y = test_data['test_y']\n",
    "train_y = train_y.flatten()\n",
    "test_y = test_y.flatten()"
   ]
  },
  {
   "cell_type": "code",
   "execution_count": 4,
   "metadata": {
    "collapsed": false
   },
   "outputs": [
    {
     "data": {
      "text/plain": [
       "(40000,)"
      ]
     },
     "execution_count": 4,
     "metadata": {},
     "output_type": "execute_result"
    }
   ],
   "source": [
    "test_y.shape"
   ]
  },
  {
   "cell_type": "code",
   "execution_count": 5,
   "metadata": {
    "collapsed": true
   },
   "outputs": [],
   "source": [
    "train_X = train_X.reshape(-1,28,28,1)\n",
    "test_X = test_X.reshape(-1, 28, 28, 1)"
   ]
  },
  {
   "cell_type": "code",
   "execution_count": 6,
   "metadata": {
    "collapsed": false
   },
   "outputs": [
    {
     "data": {
      "text/plain": [
       "(10000, 28, 28, 1)"
      ]
     },
     "execution_count": 6,
     "metadata": {},
     "output_type": "execute_result"
    }
   ],
   "source": [
    "train_X.shape"
   ]
  },
  {
   "cell_type": "code",
   "execution_count": 7,
   "metadata": {
    "collapsed": false
   },
   "outputs": [],
   "source": [
    "NUM_HIDDEN = 512\n",
    "input_shape = [None, 28, 28, 1]\n",
    "x = tf.placeholder(tf.float32, input_shape, name='x')\n",
    "y_ = tf.placeholder(tf.int64, shape=[None], name='y')\n",
    "\n",
    "#helper function\n",
    "def leaky_relu(x, alpha=0.1, dtype=tf.float32):\n",
    "    x = tf.cast(x, dtype=dtype)\n",
    "    bool_mask = (x > 0)\n",
    "    mask = tf.cast(bool_mask, dtype=dtype)\n",
    "    return 1.0 * mask * x + alpha * (1 - mask) * x\n",
    "\n",
    "def add_3x3_conv_layer(inputs, num_filters, stride=[1,1,1,1], name='conv'):\n",
    "    # input should be a 4D tensor.\n",
    "    input_fm = inputs.get_shape().as_list()[3]\n",
    "    W = tf.Variable(\n",
    "            tf.truncated_normal([3, 3, input_fm, num_filters],\n",
    "            stddev=1.0 / math.sqrt(input_fm)), name=name+'/W')\n",
    "    b=tf.Variable(tf.zeros([num_filters])+0.1, name=name+'/b')\n",
    "    output = leaky_relu(tf.add(tf.nn.conv2d(inputs, W, stride, padding='SAME'), b))\n",
    "    return output\n",
    "\n",
    "        "
   ]
  },
  {
   "cell_type": "code",
   "execution_count": 8,
   "metadata": {
    "collapsed": false
   },
   "outputs": [],
   "source": [
    "# define the network\n",
    "conv1_1 = add_3x3_conv_layer(x,16,name='conv1_1')\n",
    "conv1_2 = add_3x3_conv_layer(conv1_1, 16, name='conv1_2')\n",
    "conv2_1 = add_3x3_conv_layer(conv1_2, 32, [1,2,2,1], 'conv2_1')\n",
    "conv2_2 = add_3x3_conv_layer(conv2_1, 32, name='conv2_2')\n",
    "conv3_1 = add_3x3_conv_layer(conv2_2, 64, [1,2,2,1], 'conv3_1')\n",
    "conv3_2 = add_3x3_conv_layer(conv3_1, 64, name='conv3_2')\n",
    "conv3_2_flat = tf.reshape(conv3_2, [-1, 7*7*64])\n",
    "W_fc1 = tf.Variable(\n",
    "                tf.truncated_normal([7*7*64, NUM_HIDDEN],\n",
    "                stddev=1.0 / math.sqrt(7*7*64)), name='W_fc1')\n",
    "b_fc1 = tf.Variable(tf.zeros([NUM_HIDDEN])+0.1, name='b_fc1')\n",
    "h_fc1 = leaky_relu(tf.matmul(conv3_2_flat, W_fc1) + b_fc1)\n",
    "keep_prob = tf.placeholder(tf.float32)\n",
    "h_fc1_drop = tf.nn.dropout(h_fc1, keep_prob)\n",
    "\n",
    "W_fc2 = tf.Variable(\n",
    "                tf.truncated_normal([NUM_HIDDEN, 10],\n",
    "                stddev=1.0 / math.sqrt(NUM_HIDDEN)), name='W_fc2')\n",
    "b_fc2 = tf.Variable(tf.zeros([10]), name='b_fc2')\n",
    "\n",
    "y_conv = tf.matmul(h_fc1_drop, W_fc2) + b_fc2\n",
    "\n",
    "# cross entropy loss\n",
    "cross_entropy = tf.reduce_mean(tf.nn.sparse_softmax_cross_entropy_with_logits(y_conv, y_))\n"
   ]
  },
  {
   "cell_type": "code",
   "execution_count": 9,
   "metadata": {
    "collapsed": false
   },
   "outputs": [],
   "source": [
    "train_step = tf.train.AdamOptimizer(1e-4).minimize(cross_entropy)\n",
    "correct_prediction = tf.equal(tf.argmax(y_conv,1), y_)\n",
    "accuracy = tf.reduce_mean(tf.cast(correct_prediction, tf.float32))\n",
    "sess = tf.InteractiveSession()\n",
    "sess.run(tf.global_variables_initializer())"
   ]
  },
  {
   "cell_type": "code",
   "execution_count": 11,
   "metadata": {
    "collapsed": false,
    "scrolled": true
   },
   "outputs": [
    {
     "name": "stdout",
     "output_type": "stream",
     "text": [
      "epoch 0, training accuracy 1\n",
      "epoch 1, training accuracy 1\n",
      "epoch 2, training accuracy 1\n",
      "epoch 3, training accuracy 1\n",
      "epoch 4, training accuracy 1\n",
      "epoch 5, training accuracy 1\n",
      "epoch 6, training accuracy 1\n",
      "epoch 7, training accuracy 1\n",
      "epoch 8, training accuracy 1\n",
      "epoch 9, training accuracy 1\n",
      "epoch 10, training accuracy 1\n",
      "epoch 11, training accuracy 1\n",
      "epoch 12, training accuracy 1\n",
      "epoch 13, training accuracy 1\n",
      "epoch 14, training accuracy 1\n",
      "epoch 15, training accuracy 1\n",
      "epoch 16, training accuracy 1\n",
      "epoch 17, training accuracy 1\n",
      "epoch 18, training accuracy 1\n",
      "epoch 19, training accuracy 1\n",
      "epoch 20, training accuracy 1\n",
      "epoch 21, training accuracy 1\n",
      "epoch 22, training accuracy 1\n",
      "epoch 23, training accuracy 1\n",
      "epoch 24, training accuracy 1\n",
      "epoch 25, training accuracy 1\n",
      "epoch 26, training accuracy 1\n",
      "epoch 27, training accuracy 1\n",
      "epoch 28, training accuracy 1\n",
      "epoch 29, training accuracy 1\n",
      "epoch 30, training accuracy 1\n",
      "epoch 31, training accuracy 1\n",
      "epoch 32, training accuracy 1\n",
      "epoch 33, training accuracy 1\n",
      "epoch 34, training accuracy 1\n",
      "epoch 35, training accuracy 1\n",
      "epoch 36, training accuracy 1\n",
      "epoch 37, training accuracy 1\n",
      "epoch 38, training accuracy 1\n",
      "epoch 39, training accuracy 1\n",
      "epoch 40, training accuracy 1\n",
      "epoch 41, training accuracy 1\n",
      "epoch 42, training accuracy 1\n",
      "epoch 43, training accuracy 1\n",
      "epoch 44, training accuracy 1\n",
      "epoch 45, training accuracy 1\n",
      "epoch 46, training accuracy 1\n",
      "epoch 47, training accuracy 1\n",
      "epoch 48, training accuracy 1\n",
      "epoch 49, training accuracy 1\n",
      "epoch 50, training accuracy 1\n",
      "epoch 51, training accuracy 1\n",
      "epoch 52, training accuracy 1\n",
      "epoch 53, training accuracy 1\n",
      "epoch 54, training accuracy 1\n",
      "epoch 55, training accuracy 1\n",
      "epoch 56, training accuracy 1\n",
      "epoch 57, training accuracy 1\n",
      "epoch 58, training accuracy 1\n",
      "epoch 59, training accuracy 1\n",
      "epoch 60, training accuracy 1\n",
      "epoch 61, training accuracy 1\n",
      "epoch 62, training accuracy 1\n",
      "epoch 63, training accuracy 1\n",
      "epoch 64, training accuracy 1\n",
      "epoch 65, training accuracy 1\n",
      "epoch 66, training accuracy 1\n",
      "epoch 67, training accuracy 1\n",
      "epoch 68, training accuracy 1\n",
      "epoch 69, training accuracy 1\n",
      "epoch 70, training accuracy 1\n",
      "epoch 71, training accuracy 1\n",
      "epoch 72, training accuracy 1\n",
      "epoch 73, training accuracy 1\n",
      "epoch 74, training accuracy 1\n",
      "epoch 75, training accuracy 1\n",
      "epoch 76, training accuracy 1\n",
      "epoch 77, training accuracy 1\n",
      "epoch 78, training accuracy 1\n",
      "epoch 79, training accuracy 1\n",
      "epoch 80, training accuracy 1\n",
      "epoch 81, training accuracy 1\n",
      "epoch 82, training accuracy 1\n",
      "epoch 83, training accuracy 1\n",
      "epoch 84, training accuracy 1\n",
      "epoch 85, training accuracy 1\n",
      "epoch 86, training accuracy 1\n",
      "epoch 87, training accuracy 1\n",
      "epoch 88, training accuracy 1\n",
      "epoch 89, training accuracy 1\n",
      "epoch 90, training accuracy 1\n",
      "epoch 91, training accuracy 1\n",
      "epoch 92, training accuracy 1\n",
      "epoch 93, training accuracy 1\n",
      "epoch 94, training accuracy 1\n",
      "epoch 95, training accuracy 1\n",
      "epoch 96, training accuracy 1\n",
      "epoch 97, training accuracy 1\n",
      "epoch 98, training accuracy 1\n",
      "epoch 99, training accuracy 1\n"
     ]
    }
   ],
   "source": [
    "batch_size = 200\n",
    "n_epochs = 100\n",
    "for epoch_i in range(n_epochs):\n",
    "    for batch_i in range(10000 // batch_size):\n",
    "        batch_x = train_X[batch_i*batch_size:(batch_i+1)*batch_size,:,:,:]\n",
    "        batch_y = train_y[batch_i*batch_size:(batch_i+1)*batch_size]\n",
    "        train_step.run(feed_dict={x: batch_x, y_:batch_y, keep_prob:0.5})\n",
    "    train_accuracy = accuracy.eval(feed_dict={\n",
    "            x:batch_x, y_: batch_y, keep_prob: 1.0})\n",
    "    print(\"epoch %d, training accuracy %g\"%(epoch_i, train_accuracy))"
   ]
  },
  {
   "cell_type": "code",
   "execution_count": 12,
   "metadata": {
    "collapsed": true
   },
   "outputs": [],
   "source": [
    "X = np.concatenate((train_X, test_X),0)"
   ]
  },
  {
   "cell_type": "code",
   "execution_count": 13,
   "metadata": {
    "collapsed": false
   },
   "outputs": [
    {
     "data": {
      "text/plain": [
       "(50000, 28, 28, 1)"
      ]
     },
     "execution_count": 13,
     "metadata": {},
     "output_type": "execute_result"
    }
   ],
   "source": [
    "X.shape"
   ]
  },
  {
   "cell_type": "code",
   "execution_count": 14,
   "metadata": {
    "collapsed": true
   },
   "outputs": [],
   "source": [
    "X_encode = np.zeros((50000,NUM_HIDDEN), dtype=np.float32)\n",
    "for batch_i in range(50000 // batch_size):\n",
    "    batch_xs = X[batch_i*batch_size:(batch_i+1)*batch_size,:,:,:]\n",
    "    encoded_feature = sess.run(h_fc1_drop, feed_dict={x: batch_xs, keep_prob:1})\n",
    "    X_encode[batch_i*batch_size:(batch_i+1)*batch_size,:] = encoded_feature"
   ]
  },
  {
   "cell_type": "code",
   "execution_count": 15,
   "metadata": {
    "collapsed": false
   },
   "outputs": [
    {
     "data": {
      "text/plain": [
       "(50000, 512)"
      ]
     },
     "execution_count": 15,
     "metadata": {},
     "output_type": "execute_result"
    }
   ],
   "source": [
    "X_encode.shape"
   ]
  },
  {
   "cell_type": "code",
   "execution_count": 16,
   "metadata": {
    "collapsed": true
   },
   "outputs": [],
   "source": [
    "import sklearn.neighbors\n",
    "from sklearn.decomposition import PCA\n",
    "KNN_C = sklearn.neighbors.KNeighborsClassifier()\n",
    "\n",
    "def train_and_eval( model, train_x, train_y, test_x, test_y):\n",
    "    model.fit( train_x, train_y )\n",
    "    p = model.predict( test_x )\n",
    "    OA = sum(test_y==p)/len(test_y)\n",
    "    return OA"
   ]
  },
  {
   "cell_type": "markdown",
   "metadata": {},
   "source": [
    "# test accuracy"
   ]
  },
  {
   "cell_type": "code",
   "execution_count": 17,
   "metadata": {
    "collapsed": false
   },
   "outputs": [
    {
     "data": {
      "text/plain": [
       "0.85809999999999997"
      ]
     },
     "execution_count": 17,
     "metadata": {},
     "output_type": "execute_result"
    }
   ],
   "source": [
    "train_and_eval(KNN_C, X_encode[:10000,:], train_y, X_encode[10000:,:], test_y)"
   ]
  },
  {
   "cell_type": "code",
   "execution_count": 18,
   "metadata": {
    "collapsed": true
   },
   "outputs": [],
   "source": [
    "sio.savemat('X_encode_CNN_512.mat', {'X_encode': X_encode})"
   ]
  },
  {
   "cell_type": "markdown",
   "metadata": {},
   "source": [
    "# use principle components of the latent space improves accuracy"
   ]
  },
  {
   "cell_type": "code",
   "execution_count": 21,
   "metadata": {
    "collapsed": false
   },
   "outputs": [
    {
     "data": {
      "text/plain": [
       "0.872475"
      ]
     },
     "execution_count": 21,
     "metadata": {},
     "output_type": "execute_result"
    }
   ],
   "source": [
    "train_index = np.arange(10000)\n",
    "test_index = np.arange(10000,50000)\n",
    "pca = PCA(n_components=50)\n",
    "pcomp = pca.fit_transform(X_encode)\n",
    "X_pcomp_train,X_pcomp_test = [pcomp[train_index],pcomp[test_index]]\n",
    "train_and_eval(KNN_C, X_pcomp_train, train_y, X_pcomp_test, test_y)"
   ]
  },
  {
   "cell_type": "code",
   "execution_count": null,
   "metadata": {
    "collapsed": true
   },
   "outputs": [],
   "source": []
  }
 ],
 "metadata": {
  "kernelspec": {
   "display_name": "Python 3",
   "language": "python",
   "name": "python3"
  },
  "language_info": {
   "codemirror_mode": {
    "name": "ipython",
    "version": 3
   },
   "file_extension": ".py",
   "mimetype": "text/x-python",
   "name": "python",
   "nbconvert_exporter": "python",
   "pygments_lexer": "ipython3",
   "version": "3.5.2"
  }
 },
 "nbformat": 4,
 "nbformat_minor": 1
}
