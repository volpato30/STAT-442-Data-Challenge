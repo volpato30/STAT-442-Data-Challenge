{
 "cells": [
  {
   "cell_type": "markdown",
   "metadata": {},
   "source": [
    "# Using Convolutional Autoencoder to extract features"
   ]
  },
  {
   "cell_type": "code",
   "execution_count": 1,
   "metadata": {
    "collapsed": true
   },
   "outputs": [],
   "source": [
    "import tensorflow as tf\n",
    "import numpy as np\n",
    "import math\n",
    "import scipy.io as sio"
   ]
  },
  {
   "cell_type": "code",
   "execution_count": 2,
   "metadata": {
    "collapsed": false
   },
   "outputs": [],
   "source": [
    "data  = sio.loadmat('../distorted_MNIST.mat')"
   ]
  },
  {
   "cell_type": "code",
   "execution_count": 3,
   "metadata": {
    "collapsed": true
   },
   "outputs": [],
   "source": [
    "train_X = data['train_X']\n",
    "train_y = data['train_y']\n",
    "test_X = data['test_X']"
   ]
  },
  {
   "cell_type": "code",
   "execution_count": 4,
   "metadata": {
    "collapsed": true
   },
   "outputs": [],
   "source": [
    "X = np.concatenate((train_X, test_X))\n",
    "X = X.reshape(-1,28,28,1)"
   ]
  },
  {
   "cell_type": "code",
   "execution_count": 5,
   "metadata": {
    "collapsed": false
   },
   "outputs": [
    {
     "data": {
      "text/plain": [
       "(50000, 28, 28, 1)"
      ]
     },
     "execution_count": 5,
     "metadata": {},
     "output_type": "execute_result"
    }
   ],
   "source": [
    "X.shape"
   ]
  },
  {
   "cell_type": "markdown",
   "metadata": {},
   "source": [
    "## define computation graph for cae model"
   ]
  },
  {
   "cell_type": "markdown",
   "metadata": {},
   "source": [
    "### encoder part"
   ]
  },
  {
   "cell_type": "code",
   "execution_count": 6,
   "metadata": {
    "collapsed": false
   },
   "outputs": [],
   "source": [
    "NUM_HIDDEN = 50\n",
    "input_shape = [None, 28, 28, 1]\n",
    "x = tf.placeholder(tf.float32, input_shape, name='x')\n",
    "n_filters = [1,32,32]\n",
    "filter_sizes=[3, 3]\n",
    "shapes = []\n",
    "current_input = x\n",
    "for layer_i, n_output in enumerate(n_filters[1:]):\n",
    "    n_input = current_input.get_shape().as_list()[3]\n",
    "    shapes.append(current_input.get_shape().as_list())\n",
    "    W = tf.Variable(\n",
    "            tf.truncated_normal([\n",
    "                filter_sizes[layer_i],\n",
    "                filter_sizes[layer_i],\n",
    "                n_input, n_output],\n",
    "                stddev=1.0 / math.sqrt(n_input)))\n",
    "    b = tf.Variable(tf.zeros([n_output])+0.1)\n",
    "    output = tf.nn.relu(\n",
    "                tf.add(tf.nn.conv2d(\n",
    "                    current_input, W, strides=[1, 2, 2, 1], padding='SAME'), b))\n",
    "    current_input = output\n",
    "\n",
    "n_input = np.prod(current_input.get_shape().as_list()[1:])\n",
    "current_input = tf.reshape(output,[-1,n_input])\n",
    "W = tf.Variable(\n",
    "            tf.truncated_normal([n_input, NUM_HIDDEN],\n",
    "                stddev=1.0 / math.sqrt(n_input)))\n",
    "b = tf.Variable(tf.zeros([NUM_HIDDEN])+0.1)\n",
    "features = tf.nn.relu(tf.add(tf.matmul(current_input, W),b))\n"
   ]
  },
  {
   "cell_type": "code",
   "execution_count": 7,
   "metadata": {
    "collapsed": false
   },
   "outputs": [
    {
     "data": {
      "text/plain": [
       "[None, 7, 7, 32]"
      ]
     },
     "execution_count": 7,
     "metadata": {},
     "output_type": "execute_result"
    }
   ],
   "source": [
    "output.get_shape().as_list()"
   ]
  },
  {
   "cell_type": "markdown",
   "metadata": {},
   "source": [
    "### decoder part"
   ]
  },
  {
   "cell_type": "code",
   "execution_count": 8,
   "metadata": {
    "collapsed": false
   },
   "outputs": [],
   "source": [
    "n_output = np.prod(output.get_shape().as_list()[1:])\n",
    "W = tf.Variable(tf.truncated_normal([NUM_HIDDEN, n_output],\n",
    "                stddev=1.0 / math.sqrt(NUM_HIDDEN)))\n",
    "b = tf.Variable(tf.zeros([n_output])+0.1)\n",
    "output = tf.nn.relu(tf.add(tf.matmul(features,W),b))\n",
    "current_input = tf.reshape(output, [-1,7,7,32])\n",
    "\n",
    "shapes.reverse()\n",
    "\n",
    "for layer_i, shape in enumerate(shapes):\n",
    "    W = tf.Variable(\n",
    "            tf.truncated_normal([\n",
    "                filter_sizes[layer_i],\n",
    "                filter_sizes[layer_i],\n",
    "                n_filters[-2-layer_i], n_filters[-1-layer_i]],\n",
    "                stddev=1.0 / math.sqrt(n_filters[-1-layer_i])))\n",
    "    b = tf.Variable(tf.zeros([W.get_shape().as_list()[2]])+0.1)\n",
    "    if layer_i < len(shapes)-1:\n",
    "        activation_func = tf.nn.relu\n",
    "    else:\n",
    "        activation_func = tf.nn.sigmoid\n",
    "    output = activation_func(tf.add(\n",
    "            tf.nn.conv2d_transpose(\n",
    "                current_input, W,\n",
    "                tf.pack([tf.shape(x)[0], shape[1], shape[2], shape[3]]),\n",
    "                strides=[1, 2, 2, 1], padding='SAME'), b))\n",
    "    current_input = output\n",
    "y = current_input\n",
    "# cost function measures pixel-wise difference\n",
    "cost = tf.reduce_mean(tf.square(y - x))\n",
    "\n",
    "# create a saver\n",
    "saver = tf.train.Saver()"
   ]
  },
  {
   "cell_type": "code",
   "execution_count": 9,
   "metadata": {
    "collapsed": true
   },
   "outputs": [],
   "source": [
    "import matplotlib.pyplot as plt\n",
    "%matplotlib inline"
   ]
  },
  {
   "cell_type": "markdown",
   "metadata": {},
   "source": [
    "## training the model"
   ]
  },
  {
   "cell_type": "code",
   "execution_count": 10,
   "metadata": {
    "collapsed": false
   },
   "outputs": [
    {
     "name": "stdout",
     "output_type": "stream",
     "text": [
      "0 0.0704251\n",
      "1 0.0703663\n",
      "2 0.0703529\n",
      "3 0.0703471\n",
      "4 0.0703437\n",
      "5 0.0703412\n",
      "6 0.070339\n",
      "7 0.0703368\n",
      "8 0.0703341\n",
      "9 0.0703302\n",
      "10 0.0703239\n",
      "11 0.0703152\n",
      "12 0.0703026\n",
      "13 0.0702835\n",
      "14 0.0702603\n",
      "15 0.0702341\n",
      "16 0.0702063\n",
      "17 0.070176\n",
      "18 0.0701414\n",
      "19 0.0701004\n",
      "20 0.0700475\n",
      "21 0.069973\n",
      "22 0.0698533\n",
      "23 0.0696134\n",
      "24 0.0692274\n",
      "25 0.0687063\n",
      "26 0.0679435\n",
      "27 0.0668767\n",
      "28 0.0653967\n",
      "29 0.063423\n",
      "30 0.0608358\n",
      "31 0.0576401\n",
      "32 0.0541832\n",
      "33 0.0515408\n",
      "34 0.049383\n",
      "35 0.0474371\n",
      "36 0.0459327\n",
      "37 0.0444033\n",
      "38 0.0422669\n",
      "39 0.0409192\n",
      "40 0.0391425\n",
      "41 0.0379647\n",
      "42 0.0371116\n",
      "43 0.0363847\n",
      "44 0.0363403\n",
      "45 0.0355012\n",
      "46 0.0350394\n",
      "47 0.0345614\n",
      "48 0.0338001\n",
      "49 0.0338341\n",
      "50 0.0331538\n",
      "51 0.0324322\n",
      "52 0.0320711\n",
      "53 0.0317294\n",
      "54 0.0311301\n",
      "55 0.031301\n",
      "56 0.0310197\n",
      "57 0.0312539\n",
      "58 0.0310416\n",
      "59 0.0307638\n",
      "60 0.0299468\n",
      "61 0.0307421\n",
      "62 0.0297833\n",
      "63 0.0295593\n",
      "64 0.0292725\n",
      "65 0.0293712\n",
      "66 0.0294308\n",
      "67 0.0290115\n",
      "68 0.028768\n",
      "69 0.0287353\n",
      "70 0.0286943\n",
      "71 0.0284035\n",
      "72 0.0283039\n",
      "73 0.0284077\n",
      "74 0.0279698\n",
      "75 0.0282035\n",
      "76 0.0280628\n",
      "77 0.0280449\n",
      "78 0.0277414\n",
      "79 0.0279805\n",
      "80 0.0278473\n",
      "81 0.0272362\n",
      "82 0.0275742\n",
      "83 0.027135\n",
      "84 0.0273032\n",
      "85 0.0279492\n",
      "86 0.0269881\n",
      "87 0.0269585\n",
      "88 0.0268593\n",
      "89 0.0268492\n",
      "90 0.0266981\n",
      "91 0.0266914\n",
      "92 0.0269855\n",
      "93 0.0268824\n",
      "94 0.0267753\n",
      "95 0.0267539\n",
      "96 0.0265928\n",
      "97 0.0266466\n",
      "98 0.0265618\n",
      "99 0.026568\n",
      "100 0.0264381\n",
      "101 0.0265386\n",
      "102 0.0262527\n",
      "103 0.026413\n",
      "104 0.0264218\n",
      "105 0.0259149\n",
      "106 0.0261465\n",
      "107 0.0258563\n",
      "108 0.0259129\n",
      "109 0.0257739\n",
      "110 0.0262276\n",
      "111 0.0260339\n",
      "112 0.0260118\n",
      "113 0.0259139\n",
      "114 0.0259234\n",
      "115 0.0257683\n",
      "116 0.0257998\n",
      "117 0.0258112\n",
      "118 0.0258187\n",
      "119 0.025724\n",
      "120 0.0257759\n",
      "121 0.0255022\n",
      "122 0.0254862\n",
      "123 0.0253941\n",
      "124 0.0254338\n",
      "125 0.0252755\n",
      "126 0.0255086\n",
      "127 0.0254359\n",
      "128 0.025492\n",
      "129 0.0253706\n",
      "130 0.0254477\n",
      "131 0.0249714\n",
      "132 0.0253602\n",
      "133 0.0250687\n",
      "134 0.0251135\n",
      "135 0.0250125\n",
      "136 0.0250727\n",
      "137 0.0249005\n",
      "138 0.0251859\n",
      "139 0.025155\n",
      "140 0.0250623\n",
      "141 0.0250823\n",
      "142 0.0250299\n",
      "143 0.0249146\n",
      "144 0.0247012\n",
      "145 0.0250116\n",
      "146 0.0248222\n",
      "147 0.0247021\n",
      "148 0.0246223\n",
      "149 0.0246136\n",
      "150 0.0249743\n",
      "151 0.0248574\n",
      "152 0.0248028\n",
      "153 0.0248121\n",
      "154 0.0247841\n",
      "155 0.0247271\n",
      "156 0.0245476\n",
      "157 0.0245284\n",
      "158 0.0244686\n",
      "159 0.0244982\n",
      "160 0.0243869\n",
      "161 0.0244133\n",
      "162 0.0246154\n",
      "163 0.0246788\n",
      "164 0.0245863\n",
      "165 0.0245796\n",
      "166 0.0245299\n",
      "167 0.0244273\n",
      "168 0.0243533\n",
      "169 0.0246633\n",
      "170 0.0242711\n",
      "171 0.0242954\n",
      "172 0.0242032\n",
      "173 0.0240785\n",
      "174 0.0245104\n",
      "175 0.0243836\n",
      "176 0.0243934\n",
      "177 0.0243659\n",
      "178 0.024357\n",
      "179 0.024259\n",
      "180 0.0241005\n",
      "181 0.024026\n",
      "182 0.0241239\n",
      "183 0.0239373\n",
      "184 0.0239418\n",
      "185 0.0242259\n",
      "186 0.0241684\n",
      "187 0.0241985\n",
      "188 0.0240915\n",
      "189 0.0240168\n",
      "190 0.0238116\n",
      "191 0.024344\n",
      "192 0.0238668\n",
      "193 0.0238458\n",
      "194 0.0237906\n",
      "195 0.0237897\n",
      "196 0.023899\n",
      "197 0.0240933\n",
      "198 0.0239232\n",
      "199 0.0238768\n"
     ]
    }
   ],
   "source": [
    "mean_img = np.mean(X, axis=0)\n",
    "\n",
    "    # %%\n",
    "learning_rate = 1\n",
    "optimizer = tf.train.AdadeltaOptimizer(learning_rate).minimize(cost)\n",
    "\n",
    "    # %%\n",
    "    # We create a session to use the graph\n",
    "sess = tf.InteractiveSession()\n",
    "tf.global_variables_initializer().run()\n",
    "\n",
    "    # %%\n",
    "    # Fit all training data\n",
    "batch_size = 500\n",
    "n_epochs = 200\n",
    "for epoch_i in range(n_epochs):\n",
    "    for batch_i in range(50000 // batch_size):\n",
    "        batch_xs = X[batch_i*batch_size:(batch_i+1)*batch_size,:,:,:]\n",
    "        train = np.array([img - mean_img for img in batch_xs])\n",
    "        sess.run(optimizer, feed_dict={x: train})\n",
    "    if epoch_i % 100 ==99:\n",
    "        saver.save(sess, 'CAE_on_distorted_MNIST', global_step=epoch_i)\n",
    "    print(epoch_i, sess.run(cost, feed_dict={x: train}))"
   ]
  },
  {
   "cell_type": "markdown",
   "metadata": {},
   "source": [
    "# plot the reconstructed images"
   ]
  },
  {
   "cell_type": "code",
   "execution_count": 11,
   "metadata": {
    "collapsed": false,
    "scrolled": true
   },
   "outputs": [
    {
     "name": "stdout",
     "output_type": "stream",
     "text": [
      "(10, 28, 28, 1)\n"
     ]
    },
    {
     "name": "stderr",
     "output_type": "stream",
     "text": [
      "/usr/local/lib/python3.5/dist-packages/matplotlib/figure.py:397: UserWarning: matplotlib is currently using a non-GUI backend, so cannot show the figure\n",
      "  \"matplotlib is currently using a non-GUI backend, \"\n"
     ]
    },
    {
     "data": {
      "image/png": "[encoded data removed]",
      "text/plain": [
       "<matplotlib.figure.Figure at 0x7f3adc441198>"
      ]
     },
     "metadata": {},
     "output_type": "display_data"
    }
   ],
   "source": [
    "# %%\n",
    "# Plot example reconstructions\n",
    "n_examples = 10\n",
    "test_xs = X[:n_examples]\n",
    "test_xs_norm = np.array([img - mean_img for img in test_xs])\n",
    "recon = sess.run(y, feed_dict={x: test_xs_norm})\n",
    "print(recon.shape)\n",
    "fig, axs = plt.subplots(2, n_examples, figsize=(10, 2))\n",
    "\n",
    "for example_i in range(n_examples):\n",
    "    axs[0][example_i].imshow(np.reshape(test_xs[example_i, :], (28, 28)))\n",
    "    axs[1][example_i].imshow(np.reshape(recon[example_i, :],(28, 28)))\n",
    "fig.show()\n",
    "plt.draw()"
   ]
  },
  {
   "cell_type": "markdown",
   "metadata": {},
   "source": [
    "# We human can read these reconstructed images, which means the NUM_HIDDEN dimensional representation should contain enough information for classification. "
   ]
  },
  {
   "cell_type": "code",
   "execution_count": 68,
   "metadata": {
    "collapsed": true
   },
   "outputs": [],
   "source": [
    "X_encode = np.zeros((50000,NUM_HIDDEN), dtype=np.float32)\n",
    "for batch_i in range(50000 // batch_size):\n",
    "    batch_xs = X[batch_i*batch_size:(batch_i+1)*batch_size,:,:,:]\n",
    "    train = np.array([img - mean_img for img in batch_xs])\n",
    "    encoded_feature = sess.run(features, feed_dict={x: train})\n",
    "    X_encode[batch_i*batch_size:(batch_i+1)*batch_size,:] = encoded_feature"
   ]
  },
  {
   "cell_type": "code",
   "execution_count": 69,
   "metadata": {
    "collapsed": false
   },
   "outputs": [
    {
     "data": {
      "text/plain": [
       "(50000, 50)"
      ]
     },
     "execution_count": 69,
     "metadata": {},
     "output_type": "execute_result"
    }
   ],
   "source": [
    "X_encode.shape"
   ]
  },
  {
   "cell_type": "code",
   "execution_count": 62,
   "metadata": {
    "collapsed": true
   },
   "outputs": [],
   "source": [
    "sio.savemat(\"X_encode.mat\", {'X_encode':X_encode})"
   ]
  },
  {
   "cell_type": "code",
   "execution_count": 15,
   "metadata": {
    "collapsed": true
   },
   "outputs": [],
   "source": [
    "X_encode = sio.loadmat('X_encode.mat')['X_encode']"
   ]
  },
  {
   "cell_type": "code",
   "execution_count": 16,
   "metadata": {
    "collapsed": true
   },
   "outputs": [],
   "source": [
    "import sklearn.neighbors\n",
    "from sklearn.decomposition import PCA\n",
    "KNN_C = sklearn.neighbors.KNeighborsClassifier()\n",
    "\n",
    "def train_and_eval( model, train_x, train_y, test_x, test_y):\n",
    "    model.fit( train_x, train_y )\n",
    "    p = model.predict( test_x )\n",
    "    OA = sum(test_y==p)/len(test_y)\n",
    "    return OA\n",
    "test_data = sio.loadmat('../testset_label.mat')\n",
    "test_y = test_data['test_y']\n",
    "train_y = train_y.flatten()\n",
    "test_y = test_y.flatten()"
   ]
  },
  {
   "cell_type": "markdown",
   "metadata": {},
   "source": [
    "## accuracy"
   ]
  },
  {
   "cell_type": "code",
   "execution_count": 17,
   "metadata": {
    "collapsed": false
   },
   "outputs": [
    {
     "data": {
      "text/plain": [
       "0.74262499999999998"
      ]
     },
     "execution_count": 17,
     "metadata": {},
     "output_type": "execute_result"
    }
   ],
   "source": [
    "train_and_eval(KNN_C, X_encode[:10000,:], train_y, X_encode[10000:,:], test_y)"
   ]
  },
  {
   "cell_type": "markdown",
   "metadata": {},
   "source": [
    "## fine tune the model to get better result"
   ]
  },
  {
   "cell_type": "code",
   "execution_count": 12,
   "metadata": {
    "collapsed": false,
    "scrolled": true
   },
   "outputs": [
    {
     "name": "stdout",
     "output_type": "stream",
     "text": [
      "0 0.0235546\n",
      "1 0.0235506\n",
      "2 0.0235467\n",
      "3 0.0235429\n",
      "4 0.0235392\n",
      "5 0.0235354\n",
      "6 0.0235318\n",
      "7 0.0235281\n",
      "8 0.0235245\n",
      "9 0.023521\n",
      "10 0.0235176\n",
      "11 0.0235143\n",
      "12 0.0235109\n",
      "13 0.0235077\n",
      "14 0.0235045\n",
      "15 0.0235013\n",
      "16 0.0234982\n",
      "17 0.0234952\n",
      "18 0.0234921\n",
      "19 0.0234891\n",
      "20 0.0234861\n",
      "21 0.0234831\n",
      "22 0.02348\n",
      "23 0.023477\n",
      "24 0.023474\n",
      "25 0.023471\n",
      "26 0.0234681\n",
      "27 0.0234651\n",
      "28 0.0234622\n",
      "29 0.0234594\n",
      "30 0.0234565\n",
      "31 0.0234537\n",
      "32 0.0234508\n",
      "33 0.0234479\n",
      "34 0.0234451\n",
      "35 0.0234422\n",
      "36 0.0234394\n",
      "37 0.0234366\n",
      "38 0.0234339\n",
      "39 0.0234311\n",
      "40 0.0234283\n",
      "41 0.0234255\n",
      "42 0.0234228\n",
      "43 0.0234201\n",
      "44 0.0234174\n",
      "45 0.0234147\n",
      "46 0.023412\n",
      "47 0.0234093\n",
      "48 0.0234067\n",
      "49 0.023404\n",
      "50 0.0234013\n",
      "51 0.0233987\n",
      "52 0.023396\n",
      "53 0.0233934\n",
      "54 0.0233907\n",
      "55 0.0233881\n",
      "56 0.0233854\n",
      "57 0.0233828\n",
      "58 0.0233802\n",
      "59 0.0233775\n",
      "60 0.0233749\n",
      "61 0.0233722\n",
      "62 0.0233696\n",
      "63 0.023367\n",
      "64 0.0233644\n",
      "65 0.0233618\n",
      "66 0.0233592\n",
      "67 0.0233566\n",
      "68 0.023354\n",
      "69 0.0233514\n",
      "70 0.0233488\n",
      "71 0.0233463\n",
      "72 0.0233437\n",
      "73 0.0233412\n",
      "74 0.0233386\n",
      "75 0.023336\n",
      "76 0.0233334\n",
      "77 0.0233309\n",
      "78 0.0233284\n",
      "79 0.0233258\n",
      "80 0.0233233\n",
      "81 0.0233208\n",
      "82 0.0233183\n",
      "83 0.0233158\n",
      "84 0.0233133\n",
      "85 0.0233107\n",
      "86 0.0233082\n",
      "87 0.0233057\n",
      "88 0.0233032\n",
      "89 0.0233008\n",
      "90 0.0232983\n",
      "91 0.0232958\n",
      "92 0.0232933\n",
      "93 0.0232908\n",
      "94 0.0232883\n",
      "95 0.0232858\n",
      "96 0.0232833\n",
      "97 0.0232808\n",
      "98 0.0232783\n",
      "99 0.0232758\n",
      "100 0.0232733\n",
      "101 0.0232708\n",
      "102 0.0232684\n",
      "103 0.0232659\n",
      "104 0.0232634\n",
      "105 0.0232609\n",
      "106 0.0232584\n",
      "107 0.023256\n",
      "108 0.0232536\n",
      "109 0.0232511\n",
      "110 0.0232487\n",
      "111 0.0232462\n",
      "112 0.0232438\n",
      "113 0.0232413\n",
      "114 0.0232389\n",
      "115 0.0232364\n",
      "116 0.023234\n",
      "117 0.0232315\n",
      "118 0.023229\n",
      "119 0.0232266\n",
      "120 0.0232242\n",
      "121 0.0232217\n",
      "122 0.0232194\n",
      "123 0.0232169\n",
      "124 0.0232145\n",
      "125 0.0232121\n",
      "126 0.0232097\n",
      "127 0.0232072\n",
      "128 0.0232048\n",
      "129 0.0232024\n",
      "130 0.0232\n",
      "131 0.0231976\n",
      "132 0.0231952\n",
      "133 0.0231928\n",
      "134 0.0231904\n",
      "135 0.0231879\n",
      "136 0.0231856\n",
      "137 0.0231832\n",
      "138 0.0231809\n",
      "139 0.0231785\n",
      "140 0.0231762\n",
      "141 0.0231739\n",
      "142 0.0231716\n",
      "143 0.0231692\n",
      "144 0.0231669\n",
      "145 0.0231645\n",
      "146 0.0231622\n",
      "147 0.02316\n",
      "148 0.0231577\n",
      "149 0.0231554\n",
      "150 0.0231531\n",
      "151 0.0231508\n",
      "152 0.0231485\n",
      "153 0.0231463\n",
      "154 0.023144\n",
      "155 0.0231418\n",
      "156 0.0231395\n",
      "157 0.0231372\n",
      "158 0.0231349\n",
      "159 0.0231326\n",
      "160 0.0231304\n",
      "161 0.0231281\n",
      "162 0.0231259\n",
      "163 0.0231236\n",
      "164 0.0231213\n",
      "165 0.0231191\n",
      "166 0.0231168\n",
      "167 0.0231146\n",
      "168 0.0231124\n",
      "169 0.0231102\n",
      "170 0.023108\n",
      "171 0.0231058\n",
      "172 0.0231036\n",
      "173 0.0231015\n",
      "174 0.0230993\n",
      "175 0.0230971\n",
      "176 0.023095\n",
      "177 0.0230928\n",
      "178 0.0230907\n",
      "179 0.0230886\n",
      "180 0.0230864\n",
      "181 0.0230842\n",
      "182 0.0230821\n",
      "183 0.0230799\n",
      "184 0.0230778\n",
      "185 0.0230757\n",
      "186 0.0230736\n",
      "187 0.0230715\n",
      "188 0.0230693\n",
      "189 0.0230672\n",
      "190 0.0230651\n",
      "191 0.023063\n",
      "192 0.0230609\n",
      "193 0.0230588\n",
      "194 0.0230567\n",
      "195 0.0230545\n",
      "196 0.0230524\n",
      "197 0.0230503\n",
      "198 0.0230482\n",
      "199 0.0230461\n"
     ]
    }
   ],
   "source": [
    "learning_rate = 0.2\n",
    "optimizer = tf.train.GradientDescentOptimizer(learning_rate).minimize(cost)\n",
    "batch_size = 500\n",
    "n_epochs = 200\n",
    "for epoch_i in range(n_epochs):\n",
    "    for batch_i in range(50000 // batch_size):\n",
    "        batch_xs = X[batch_i*batch_size:(batch_i+1)*batch_size,:,:,:]\n",
    "        train = np.array([img - mean_img for img in batch_xs])\n",
    "        sess.run(optimizer, feed_dict={x: train})\n",
    "    print(epoch_i, sess.run(cost, feed_dict={x: train}))"
   ]
  },
  {
   "cell_type": "code",
   "execution_count": null,
   "metadata": {
    "collapsed": true
   },
   "outputs": [],
   "source": []
  }
 ],
 "metadata": {
  "kernelspec": {
   "display_name": "Python 3",
   "language": "python",
   "name": "python3"
  },
  "language_info": {
   "codemirror_mode": {
    "name": "ipython",
    "version": 3
   },
   "file_extension": ".py",
   "mimetype": "text/x-python",
   "name": "python",
   "nbconvert_exporter": "python",
   "pygments_lexer": "ipython3",
   "version": "3.5.2"
  }
 },
 "nbformat": 4,
 "nbformat_minor": 1
}
